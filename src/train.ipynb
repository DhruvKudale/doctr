{
 "cells": [
  {
   "cell_type": "markdown",
   "id": "a723c9d6-1013-4a6d-89f1-b464e670d7e7",
   "metadata": {},
   "source": [
    "### Install Dependencies"
   ]
  },
  {
   "cell_type": "code",
   "execution_count": 1,
   "id": "d52c99e2",
   "metadata": {},
   "outputs": [
    {
     "name": "stdout",
     "output_type": "stream",
     "text": [
      "/usr/lib/python3/dist-packages/requests/__init__.py:89: RequestsDependencyWarning: urllib3 (1.26.12) or chardet (3.0.4) doesn't match a supported version!\n",
      "  warnings.warn(\"urllib3 ({}) or chardet ({}) doesn't match a supported \"\n",
      "/home/dhruv/.local/lib/python3.8/site-packages/scipy/__init__.py:155: UserWarning: A NumPy version >=1.18.5 and <1.25.0 is required for this version of SciPy (detected version 1.17.4\n",
      "  warnings.warn(f\"A NumPy version >={np_minversion} and <{np_maxversion}\"\n",
      "Namespace(amp=False, arch='crnn_vgg16_bn', batch_size=64, device=None, epochs=5, find_lr=False, font='FreeMono.ttf,FreeSans.ttf,FreeSerif.ttf', input_size=32, lr=0.001, max_chars=12, min_chars=1, name=None, pretrained=False, push_to_hub=False, resume=None, sched='cosine', show_samples=True, test_only=False, train_path='/home/dhruv/Projects/printed-dev-dataset/train', train_samples=1000, val_path=None, val_samples=20, vocab='devanagari', wb=False, weight_decay=0, workers=None)\n",
      "Validation set loaded in 0.1277s (2100 samples in 33 batches)\n",
      "WARNING:root:No accessible GPU, targe device set to CPU.\n",
      "Train set loaded in 1.128s (152665 samples in 2385 batches)\n",
      "Figure(2000x500)\n"
     ]
    }
   ],
   "source": [
    "#To see samples on terminal\n",
    "!python3 ../references/recognition/train_pytorch.py crnn_vgg16_bn --vocab 'devanagari' --train_path \"/home/dhruv/Projects/printed-dev-dataset/train\" --epochs 5 --show-samples"
   ]
  },
  {
   "cell_type": "code",
   "execution_count": null,
   "id": "8ed284a2",
   "metadata": {},
   "outputs": [],
   "source": [
    "#To Train\n",
    "!python3 ../references/recognition/train_pytorch.py crnn_vgg16_bn --vocab 'devanagari' --train_path \"/home/dhruv/Projects/recog-dataset/train\" --val_path \"/home/dhruv/Projects/recog-dataset/val\" --epochs 5"
   ]
  },
  {
   "cell_type": "code",
   "execution_count": 4,
   "id": "9194fd65",
   "metadata": {},
   "outputs": [
    {
     "name": "stdout",
     "output_type": "stream",
     "text": [
      "/usr/lib/python3/dist-packages/requests/__init__.py:89: RequestsDependencyWarning: urllib3 (1.26.12) or chardet (3.0.4) doesn't match a supported version!\n",
      "  warnings.warn(\"urllib3 ({}) or chardet ({}) doesn't match a supported \"\n",
      "/home/dhruv/.local/lib/python3.8/site-packages/scipy/__init__.py:155: UserWarning: A NumPy version >=1.18.5 and <1.25.0 is required for this version of SciPy (detected version 1.17.4\n",
      "  warnings.warn(f\"A NumPy version >={np_minversion} and <{np_maxversion}\"\n",
      "Namespace(amp=False, arch='crnn_vgg16_bn', batch_size=64, device=None, epochs=10, find_lr=False, font='FreeMono.ttf,FreeSans.ttf,FreeSerif.ttf', input_size=32, lr=0.001, max_chars=12, min_chars=1, name=None, pretrained=False, push_to_hub=False, resume=None, sched='cosine', show_samples=False, test_only=True, train_path='/home/dhruv/Projects/recog-dataset/train', train_samples=1000, val_path='/home/dhruv/Projects/recog-dataset/val', val_samples=20, vocab='devanagari', wb=False, weight_decay=0, workers=None)\n",
      "Validation set loaded in 0.2277s (197 samples in 4 batches)\n",
      "WARNING:root:No accessible GPU, targe device set to CPU.\n",
      "Running evaluation\n",
      "Validation loss: 26.2574 (Exact: 0.00% | Partial: 0.00%)\n"
     ]
    }
   ],
   "source": [
    "#Test \n",
    "python3 ../references/recognition/train_pytorch.py crnn_vgg16_bn --vocab 'devanagari' --val_path \"/home/dhruv/Projects/printed-dev-dataset/test\" --epochs 96 --resume ./printed-dev-96.pt --test-only"
   ]
  },
  {
   "cell_type": "code",
   "execution_count": null,
   "id": "0b60c75a",
   "metadata": {},
   "outputs": [],
   "source": [
    "#To test\n",
    "!python3 ../references/recognition/evaluate_pytorch.py crnn_vgg16_bn --vocab 'devanagari' --dataset 'test'"
   ]
  },
  {
   "cell_type": "code",
   "execution_count": 1,
   "id": "bc430538",
   "metadata": {},
   "outputs": [],
   "source": [
    "import fastwer"
   ]
  },
  {
   "cell_type": "code",
   "execution_count": 2,
   "id": "47d25bd5",
   "metadata": {},
   "outputs": [
    {
     "data": {
      "text/plain": [
       "18.75"
      ]
     },
     "execution_count": 2,
     "metadata": {},
     "output_type": "execute_result"
    }
   ],
   "source": [
    "#For WER and CER metrics\n",
    "actual = 'my name is dhruv'\n",
    "output = 'myy nime iz dhruv'\n",
    "\n",
    "# Obtain Sentence-Level Character Error Rate (CER)\n",
    "fastwer.score_sent(output, actual, char_level=True)"
   ]
  },
  {
   "cell_type": "code",
   "execution_count": 3,
   "id": "72aad42b",
   "metadata": {},
   "outputs": [
    {
     "data": {
      "text/plain": [
       "75.0"
      ]
     },
     "execution_count": 3,
     "metadata": {},
     "output_type": "execute_result"
    }
   ],
   "source": [
    "#WER\n",
    "fastwer.score_sent(output, actual)"
   ]
  },
  {
   "cell_type": "code",
   "execution_count": null,
   "id": "00d67395",
   "metadata": {},
   "outputs": [],
   "source": []
  }
 ],
 "metadata": {
  "kernelspec": {
   "display_name": "Python 3 (ipykernel)",
   "language": "python",
   "name": "python3"
  },
  "language_info": {
   "codemirror_mode": {
    "name": "ipython",
    "version": 3
   },
   "file_extension": ".py",
   "mimetype": "text/x-python",
   "name": "python",
   "nbconvert_exporter": "python",
   "pygments_lexer": "ipython3",
   "version": "3.8.10"
  }
 },
 "nbformat": 4,
 "nbformat_minor": 5
}
