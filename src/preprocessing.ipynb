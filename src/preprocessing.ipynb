{
 "cells": [
  {
   "cell_type": "markdown",
   "id": "898f7486-3993-45d4-aba0-677242a447e3",
   "metadata": {},
   "source": [
    "### Import Libraries"
   ]
  },
  {
   "cell_type": "code",
   "execution_count": 7,
   "id": "6c891452-fb73-4ca4-9b26-10232b2b89f3",
   "metadata": {},
   "outputs": [],
   "source": [
    "import pandas as pd\n",
    "import json\n",
    "import os\n",
    "import shutil\n",
    "from tqdm import tqdm\n",
    "import re"
   ]
  },
  {
   "cell_type": "markdown",
   "id": "23ecc779-acbf-4d1e-963f-ffe3d9b024e3",
   "metadata": {},
   "source": [
    "### Converting train data labels into labels.json for DocTR"
   ]
  },
  {
   "cell_type": "code",
   "execution_count": 2,
   "id": "2a16759b-f58f-4922-98b7-bc858604c2fd",
   "metadata": {},
   "outputs": [],
   "source": [
    "df = pd.read_csv(\"./../data/hindi_sample.txt\", delimiter=\" \", header=None)\n",
    "\n",
    "df[0] = df[0].str.replace('/','_')\n",
    "labels = dict(zip(df[0], df[1]))\n",
    "\n",
    "with open('./../data/labels.json', 'w') as json_file:\n",
    "  json.dump(labels, json_file)"
   ]
  },
  {
   "cell_type": "markdown",
   "id": "009f5475-e700-4c71-939d-6c0a99a994e1",
   "metadata": {},
   "source": [
    "### Converting train data into required format"
   ]
  },
  {
   "cell_type": "code",
   "execution_count": 3,
   "id": "285dd8cc-efb5-4502-8b17-8f108a2d798f",
   "metadata": {},
   "outputs": [
    {
     "name": "stderr",
     "output_type": "stream",
     "text": [
      "100%|██████████████████████████████████████████████████████████████████████████████████████████████████████████████| 239/239 [00:00<00:00, 328.82it/s]\n"
     ]
    }
   ],
   "source": [
    "dest = './../data/images/'\n",
    "if not os.path.exists(dest):\n",
    "    os.makedirs(dest)\n",
    "\n",
    "    \n",
    "path = './../data/hindi_sample/'\n",
    "for directory in tqdm(os.listdir(path)):\n",
    "    loc = path+directory+'/'\n",
    "    \n",
    "    for file in os.listdir(loc):\n",
    "        filename = directory+'_'+file\n",
    "        if filename.endswith(\".jpg\"):\n",
    "            shutil.copy(loc+file,dest+filename)"
   ]
  },
  {
   "cell_type": "markdown",
   "id": "83b2a0b7-580f-44de-852e-a509844817a3",
   "metadata": {},
   "source": [
    "### Get Vocabulary"
   ]
  },
  {
   "cell_type": "code",
   "execution_count": 10,
   "id": "ae95ef57-1f4b-4693-9a9e-71a76207cefd",
   "metadata": {},
   "outputs": [
    {
     "name": "stdout",
     "output_type": "stream",
     "text": [
      "Unique words number is 6665\n"
     ]
    }
   ],
   "source": [
    "unique_words = []\n",
    "characters = set()\n",
    "san_re=re.compile('[\\u0900-\\u097F]+')\n",
    "\n",
    "for word in df[1]:\n",
    "    m=san_re.match(word)\n",
    "    if m:\n",
    "        tword=m.group()\n",
    "        if len(tword) > 32:\n",
    "            continue\n",
    "        if tword not in unique_words:\n",
    "            unique_words.append(tword)\n",
    "            for c in tword:\n",
    "                characters.add(c)\n",
    "\n",
    "with open('vocab_unique.txt','w') as f:\n",
    "    f.write(\"\".join(characters))\n",
    "\n",
    "print(\"Unique words number is %d\" % len(unique_words))  \n",
    "\n",
    "with open('unique_words','w') as f:\n",
    "    for word in unique_words:\n",
    "        f.write(\"%s\\n\" % word) "
   ]
  },
  {
   "cell_type": "code",
   "execution_count": null,
   "id": "c561e0ed-e7f6-4beb-b5d8-99a0953b0d86",
   "metadata": {},
   "outputs": [],
   "source": []
  }
 ],
 "metadata": {
  "kernelspec": {
   "display_name": "Python 3 (ipykernel)",
   "language": "python",
   "name": "python3"
  },
  "language_info": {
   "codemirror_mode": {
    "name": "ipython",
    "version": 3
   },
   "file_extension": ".py",
   "mimetype": "text/x-python",
   "name": "python",
   "nbconvert_exporter": "python",
   "pygments_lexer": "ipython3",
   "version": "3.8.0"
  }
 },
 "nbformat": 4,
 "nbformat_minor": 5
}
